{
 "metadata": {
  "name": "",
  "signature": "sha256:c26c228f0a6112be9cc22815b2322d958c17ec23201728abd6909b1a18683994"
 },
 "nbformat": 3,
 "nbformat_minor": 0,
 "worksheets": [
  {
   "cells": [
    {
     "cell_type": "code",
     "collapsed": false,
     "input": [
      "import sys # used to exit\n",
      "def guess(count,addCount,letters):\n",
      "            choice=input(\"Guess!(lowercase only please!)\")\n",
      "            aList=indexList(word, choice)\n",
      "            print(aList)\n",
      "            if len(choice)>1:\n",
      "                print(\"Don't cheat!\")# Exactly :)\n",
      "                guess(count,addCount,letters)\n",
      "            elif len(aList) > 0:\n",
      "                for i in aList:\n",
      "                line[i] = choice  #Problem here. aList is list when needs to be integers\n",
      "                print (\"Good Choice!\")\n",
      "                c=''.join(line)\n",
      "                print (c,\"Letters missed:\"), letters #Tells what letters the guy has missed\n",
      "                if word==c:\n",
      "                print (\"You Win!\") \n",
      "                sys.exit()\n",
      "             else:\n",
      "               guess(count,addCount,letters) #repeats until win or lose\n",
      "            else:\n",
      "                if choice in letters:\n",
      "                    print (\"You have already guessed this!\") #so he/she doesn't repeat a stupid mistake\n",
      "                    guess(count,addCount,letters)\n",
      "                count+=addCount\n",
      "                letters[count]=choice\n",
      "                if count==0:\n",
      "                    print (\"O\")\n",
      "                    addCount=1\n",
      "                elif count==1:\n",
      "                    print (\"O<\")\n",
      "                    addCount=2\n",
      "                elif count==2:\n",
      "                    print (\"0<-\")\n",
      "                    addCount=3\n",
      "                elif count==3:\n",
      "                    print (\"O<-<\\n Game Over XP\")\n",
      "                    sys.exit()\n",
      "                print (\"Letters missed: \", ' ').join(letters)\n",
      "                guess(count,addCount,letters))\n",
      " \n",
      "def indexList(s, item, i=0):\n",
      "    i_list = []\n",
      "    while True:\n",
      "        try:\n",
      "            i = s.index(item, i)\n",
      "            i_list.append(i)\n",
      "            i += 1\n",
      "        except:\n",
      "            break\n",
      "    return i_list\n",
      " \n",
      "if __name__=='__main__':\n",
      "    word=input(\"Type a name:\")\n",
      "    word=''.join(word.lower().split(' '))\n",
      "    #print word #This was just for testing\n",
      "    line=['_ ']*len(word)\n",
      "    print ('').join(line)\n",
      "    count=0 #set count\n",
      "    addCount=0 #set add count\n",
      "    letters=['']*4 #make an empty list\n",
      "    guess(count,addCount,letters) #carries everything to guess for later use\n"
     ],
     "language": "python",
     "metadata": {},
     "outputs": [
      {
       "ename": "IndentationError",
       "evalue": "expected an indented block (<ipython-input-8-043db23647f4>, line 11)",
       "output_type": "pyerr",
       "traceback": [
        "\u001b[0;36m  File \u001b[0;32m\"<ipython-input-8-043db23647f4>\"\u001b[0;36m, line \u001b[0;32m11\u001b[0m\n\u001b[0;31m    line[i] = choice  #Problem here. aList is list when needs to be integers\u001b[0m\n\u001b[0m       ^\u001b[0m\n\u001b[0;31mIndentationError\u001b[0m\u001b[0;31m:\u001b[0m expected an indented block\n"
       ]
      }
     ],
     "prompt_number": 8
    },
    {
     "cell_type": "code",
     "collapsed": false,
     "input": [],
     "language": "python",
     "metadata": {},
     "outputs": []
    }
   ],
   "metadata": {}
  }
 ]
}