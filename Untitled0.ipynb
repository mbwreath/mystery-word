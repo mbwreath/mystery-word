{
 "metadata": {
  "name": "",
  "signature": "sha256:3105501b12bd3333e7529709ab4a825e605cb8545e45f898233d2b0fa272eab7"
 },
 "nbformat": 3,
 "nbformat_minor": 0,
 "worksheets": [
  {
   "cells": [
    {
     "cell_type": "code",
     "collapsed": false,
     "input": [
      "print(\"Welcome to Hangman! Guess the mystery word with less than 6 mistakes!\")\n",
      "\n",
      "words= ['utopian','fairy','tree','monday','blue'] \n",
      "\n",
      "i=int(input(\"Please enter a number (0<=number<10) to choose the word in the list: \"))\n",
      "\n",
      "if(words[i]):\n",
      "    print(\"The number of letters in your word is: \" , len(words[i]))\n",
      "\n",
      "guesses=0\n",
      "letters_guessed = []\n",
      "word = []\n",
      "for x in range(len(words[i])):\n",
      "    word.append('_')\n",
      "\n",
      "while guesses < 6:\n",
      "    guess=input(\"Please enter the letter you guess: \")\n",
      "\n",
      "    if(guess in words[i]):\n",
      "        print(\"Tip of the Hat! Correct!\")\n",
      "        for index, letter in enumerate(words[i]):\n",
      "            if letter == guess:\n",
      "                word[index] = guess\n",
      "        letters_guessed.append(guess)\n",
      "\n",
      "    else:\n",
      "        print(\"Wag of the finger! Incorrect!\")\n",
      "        guesses=guesses+1\n",
      "        letters_guessed.append(guess)\n",
      "\n",
      "    print(\"you have guessed these letters: %s\"%(''.join(letters_guessed)))\n",
      "    print(\"Letters matched so far:%s\"%\"_ \".join(word))\n",
      "    print()\n",
      "\n",
      "    if ''.join(word) == words[i]:\n",
      "        break\n",
      "\n",
      "if guesses==6:\n",
      "    print(\"Failure. The word was:\" , words[i])\n",
      "else:\n",
      "    print(\"YOU'VE WON!! Great Job!\")\n",
      "    print(\"You only made %i wrong guesses\"%guesses)\n"
     ],
     "language": "python",
     "metadata": {},
     "outputs": [
      {
       "output_type": "stream",
       "stream": "stdout",
       "text": [
        "Welcome to Hangman! Guess the mystery word with less than 6 mistakes!\n"
       ]
      }
     ]
    },
    {
     "cell_type": "code",
     "collapsed": false,
     "input": [],
     "language": "python",
     "metadata": {},
     "outputs": [
      {
       "ename": "NameError",
       "evalue": "name 'join' is not defined",
       "output_type": "pyerr",
       "traceback": [
        "\u001b[0;31m---------------------------------------------------------------------------\u001b[0m\n\u001b[0;31mNameError\u001b[0m                                 Traceback (most recent call last)",
        "\u001b[0;32m<ipython-input-2-ff6260bbd2f2>\u001b[0m in \u001b[0;36m<module>\u001b[0;34m()\u001b[0m\n\u001b[0;32m----> 1\u001b[0;31m \u001b[0mhelp\u001b[0m\u001b[0;34m(\u001b[0m\u001b[0mjoin\u001b[0m\u001b[0;34m)\u001b[0m\u001b[0;34m\u001b[0m\u001b[0m\n\u001b[0m",
        "\u001b[0;31mNameError\u001b[0m: name 'join' is not defined"
       ]
      }
     ],
     "prompt_number": 2
    },
    {
     "cell_type": "code",
     "collapsed": false,
     "input": [
      "print(\"Welcome to Hangman! Guess the mystery word with less than 6 mistakes!\")\n",
      "\n",
      "words= ['utopian','fairy','tree','monday','blue'] \n",
      "\n",
      "i=int(input(\"Please enter a number (0<=number<10) to choose the word in the list: \"))\n",
      "\n",
      "if(words[i]):\n",
      "    print(\"The length of the word is: \" , len(words[i]))\n",
      "\n",
      "guesses=0\n",
      "letters_guessed = []\n",
      "word = []\n",
      "for x in range(len(words[i])):\n",
      "    word.append('_')\n",
      "\n",
      "while guesses < 6:\n",
      "    guess=input(\"Please enter the letter you guess: \")\n",
      "\n",
      "    if(guess in words[i]):\n",
      "        print(\"The letter is in the word.\")\n",
      "        for index, letter in enumerate(words[i]):\n",
      "            if letter == guess:\n",
      "                word[index] = guess\n",
      "        letters_guessed.append(guess)\n",
      "\n",
      "    else:\n",
      "        print(\"The letter is not in the word.\")\n",
      "        guesses=guesses+1\n",
      "        letters_guessed.append(guess)\n",
      "\n",
      "    print(\"you have guessed these letters: %s\"%(''.join(letters_guessed)))\n",
      "    print(\"Letters matched so far %s\"%\"_ _ _ _ _ _ _\".join(word))\n",
      "    print()\n",
      "\n",
      "    if ''.join(word) == words[i]:\n",
      "        break\n",
      "\n",
      "if guesses==6:\n",
      "    print(\"Failure. The word was:\" , words[i])\n",
      "else:\n",
      "    print(\"YOU'VE WON!! Great Job!\")\n",
      "    print(\"You only made %i wrong guesses\"%guesses)\n"
     ],
     "language": "python",
     "metadata": {},
     "outputs": []
    },
    {
     "cell_type": "code",
     "collapsed": false,
     "input": [],
     "language": "python",
     "metadata": {},
     "outputs": []
    }
   ],
   "metadata": {}
  }
 ]
}