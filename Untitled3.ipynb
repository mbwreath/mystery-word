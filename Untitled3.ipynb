{
 "metadata": {
  "name": "",
  "signature": "sha256:b45e238d4123c0f843922925517cfe7caf4fb215cdb91f8fe837aeb857a30441"
 },
 "nbformat": 3,
 "nbformat_minor": 0,
 "worksheets": [
  {
   "cells": [
    {
     "cell_type": "code",
     "collapsed": false,
     "input": [
      "import random\n",
      "hangManPics = ['''<hangman art omitted>''']\n",
      "\n",
      "words = 'AMERICAN NATIONAL BASEBALL BASE BALL STRIKE FOUL OUT\\\n",
      " SINGLE DOUBLE TRIPLE HOMERUN PITCHER CATCHER OUTFIELD INFIELD\\\n",
      " DIAMOND STADIUM CARDINALS DIAMONDBACKS BRAVES ORIOLES CUBS REDS\\\n",
      " INDIANS ROCKIES TIGERS ASTROS ROYALS ANGELS DODGERS MARLINS\\\n",
      " BREWER TWINS METS YANKEES ATHLETICS PHILLIES PIRATES PADRES\\\n",
      " GIANTS MARINERS RAYS RANGERS NATIONALS STRIKEOUT RUNS FASTBALL\\\n",
      " SLIDER CURVEBALL STEAL'\n",
      "\n",
      "##  Select a random word from a word list\n",
      "def getRandomWord(wordList):\n",
      "    newWords = words.split()    ##  split the word list\n",
      "    word = newWords[random.randint(0, len(newWords) - 1)]\n",
      "    return word\n",
      "\n",
      "def displayBoard(hangManPics, missedLetters, correctLetters, secretWord):\n",
      "    blanks = '_ ' * len(secretWord)\n",
      "\n",
      "    for i in range(len(secretWord)):\n",
      "        if secretWord[i] in correctLetters:\n",
      "            blanks = blanks[:i*2] + secretWord[i] + blanks[i*2 + 1:]\n",
      "\n",
      "    print(blanks)\n",
      "\n",
      "displayBoard([], ['Z', 'K', 'C'], ['B', 'A', 'E', 'L'], 'BASEBALL')\n",
      "\n",
      "#def displayBoard(hangManPics, missedLetters, correctLetters, secretWord):\n",
      " #   print(hangManPics[len(missedLetters)])\n",
      "  #  print()\n",
      "\n",
      "   # print(\"Missed letters:\", end = '')\n",
      "    #for letter in missedLetters:\n",
      "     #   print(letter, end = '')\n",
      "    #print()\n",
      "\n",
      "    #blanks = '_ ' * len(secretWord)\n",
      "\n",
      "    #for i in range(len(secretWord)):\n",
      "     #   if secretWord[i] in correctLetters:\n",
      "      #      blanks = blanks[:i] + secretWord[i] + blanks[i + 1:]\n",
      "\n",
      "    #for letter in blanks:\n",
      "     #   print(letter, end = '')\n",
      "    #print()\n",
      "\n",
      "def getGuess(alreadyGuessed):\n",
      "    while True:\n",
      "        guess = input(\"Please guess a letter. \")\n",
      "        upperGuess = guess.upper()\n",
      "        if len(upperGuess) != 1:\n",
      "            print(\"Please enter a single letter.\\n\")\n",
      "        elif upperGuess in alreadyGuessed:\n",
      "            print(\"You have already guessed that letter. Please select another one.\\n\")\n",
      "        elif upperGuess not in 'abcdefghijklmnopqrstuvwxyz'.upper():\n",
      "            print(\"Your guess must be a letter.\\n\")\n",
      "        else:\n",
      "            return upperGuess\n",
      "\n",
      "getGuess(['A', 'B', 'C'])  # Guessing \"a\" should produce error\n",
      "\n",
      "#def getGuess(alreadyGuessed):\n",
      " #   while True:\n",
      "  #      guess = input(\"Please guess a letter. \")\n",
      "   #     upperGuess = guess.upper()\n",
      "    #    if len(upperGuess) != 1:\n",
      "     #       print(\"Please enter a single letter.\\n\")\n",
      "      #  elif guess in alreadyGuessed:\n",
      "       #     print(\"You have already guessed that letter. Please select another one.\\n\")\n",
      "        #elif guess not in 'abcdefghijklmnopqrstuvwxyz':\n",
      "         #   print(\"Your guess must be a letter.\\n\")\n",
      "        #else:\n",
      "        #    return upperGuess\n",
      "\n",
      "def playAgain():\n",
      "    print(\"Would you like to play again? (yes or no)\")\n",
      "    return input().upper().startswith('Y')\n",
      "\n",
      "print(\"H A N G M A N\")\n",
      "missedLetters = ''\n",
      "correctLetters = ''\n",
      "secretWord = getRandomWord(words)\n",
      "endGame = False\n",
      "\n",
      "while True:\n",
      "    displayBoard(hangManPics, missedLetters, correctLetters, secretWord)\n",
      "\n",
      "    guess = getGuess(missedLetters + correctLetters)\n",
      "\n",
      "    if guess in secretWord:\n",
      "        correctLetters = correctLetters + guess\n",
      "\n",
      "        foundAllLetters = True\n",
      "        for i in range(len(secretWord)):\n",
      "            if secretWord[i] not in correctLetters:\n",
      "                foundAllLetters = False\n",
      "                break\n",
      "        if foundAllLetters:\n",
      "            print('''\\<ascii art omitted>\\n''')\n",
      "            print(\"The secret word is\", secretWord, \". You have won!\\n\")\n",
      "            endGame = True\n",
      "    else:\n",
      "        missedLetters = missedLetters + guess\n",
      "\n",
      "        if len(missedLetters) == len(hangManPics) - 1:\n",
      "            displayBoard(hangManPics, missedLetters, correctLetters, secretWord)\n",
      "            print('''<ascii art omitted>''')\n",
      "            print(\"You have run out of guesses. The secret word is\",\\\n",
      "                  secretWord, \". You lose.\\n\")\n",
      "            endGame = True\n",
      "\n",
      "    if endGame:\n",
      "        if playAgain():\n",
      "            missedLetters = ''\n",
      "            correctLetters = ''\n",
      "            endGame = False\n",
      "            secretWord = getRandomWord(words)\n",
      "        else:\n",
      "            break\n",
      "\n",
      "playAgain()"
     ],
     "language": "python",
     "metadata": {},
     "outputs": [
      {
       "output_type": "stream",
       "stream": "stdout",
       "text": [
        "B A _ E B A L L \n"
       ]
      },
      {
       "name": "stdout",
       "output_type": "stream",
       "stream": "stdout",
       "text": [
        "Please guess a letter. d\n"
       ]
      },
      {
       "output_type": "stream",
       "stream": "stdout",
       "text": [
        "H A N G M A N\n",
        "_ _ _ _ _ _ _ _ \n"
       ]
      },
      {
       "name": "stdout",
       "output_type": "stream",
       "stream": "stdout",
       "text": [
        "Please guess a letter. d\n"
       ]
      },
      {
       "output_type": "stream",
       "stream": "stdout",
       "text": [
        "_ _ _ _ _ _ _ _ \n"
       ]
      },
      {
       "name": "stdout",
       "output_type": "stream",
       "stream": "stdout",
       "text": [
        "Please guess a letter. y\n"
       ]
      },
      {
       "output_type": "stream",
       "stream": "stdout",
       "text": [
        "_ _ _ _ _ _ _ _ \n"
       ]
      },
      {
       "name": "stdout",
       "output_type": "stream",
       "stream": "stdout",
       "text": [
        "Please guess a letter. b\n"
       ]
      },
      {
       "output_type": "stream",
       "stream": "stdout",
       "text": [
        "_ _ _ _ _ _ _ _ \n"
       ]
      },
      {
       "name": "stdout",
       "output_type": "stream",
       "stream": "stdout",
       "text": [
        "Please guess a letter. a\n"
       ]
      },
      {
       "output_type": "stream",
       "stream": "stdout",
       "text": [
        "_ _ _ _ _ _ _ _ \n"
       ]
      },
      {
       "name": "stdout",
       "output_type": "stream",
       "stream": "stdout",
       "text": [
        "Please guess a letter. e\n"
       ]
      },
      {
       "output_type": "stream",
       "stream": "stdout",
       "text": [
        "_ _ _ _ _ _ E _ \n"
       ]
      },
      {
       "name": "stdout",
       "output_type": "stream",
       "stream": "stdout",
       "text": [
        "Please guess a letter. b\n"
       ]
      },
      {
       "output_type": "stream",
       "stream": "stdout",
       "text": [
        "You have already guessed that letter. Please select another one.\n",
        "\n"
       ]
      },
      {
       "name": "stdout",
       "output_type": "stream",
       "stream": "stdout",
       "text": [
        "Please guess a letter. y\n"
       ]
      },
      {
       "output_type": "stream",
       "stream": "stdout",
       "text": [
        "You have already guessed that letter. Please select another one.\n",
        "\n"
       ]
      },
      {
       "name": "stdout",
       "output_type": "stream",
       "stream": "stdout",
       "text": [
        "Please guess a letter. f\n"
       ]
      },
      {
       "output_type": "stream",
       "stream": "stdout",
       "text": [
        "_ _ _ _ _ _ E _ \n"
       ]
      },
      {
       "name": "stdout",
       "output_type": "stream",
       "stream": "stdout",
       "text": [
        "Please guess a letter. w\n"
       ]
      },
      {
       "output_type": "stream",
       "stream": "stdout",
       "text": [
        "_ _ _ _ _ _ E _ \n"
       ]
      },
      {
       "name": "stdout",
       "output_type": "stream",
       "stream": "stdout",
       "text": [
        "Please guess a letter. r\n"
       ]
      },
      {
       "output_type": "stream",
       "stream": "stdout",
       "text": [
        "_ _ _ _ _ _ E _ \n"
       ]
      },
      {
       "name": "stdout",
       "output_type": "stream",
       "stream": "stdout",
       "text": [
        "Please guess a letter. t\n"
       ]
      },
      {
       "output_type": "stream",
       "stream": "stdout",
       "text": [
        "_ _ _ _ _ _ E _ \n"
       ]
      },
      {
       "name": "stdout",
       "output_type": "stream",
       "stream": "stdout",
       "text": [
        "Please guess a letter. q\n"
       ]
      },
      {
       "output_type": "stream",
       "stream": "stdout",
       "text": [
        "_ _ _ _ _ _ E _ \n"
       ]
      },
      {
       "name": "stdout",
       "output_type": "stream",
       "stream": "stdout",
       "text": [
        "Please guess a letter. a\n"
       ]
      },
      {
       "output_type": "stream",
       "stream": "stdout",
       "text": [
        "You have already guessed that letter. Please select another one.\n",
        "\n"
       ]
      },
      {
       "name": "stdout",
       "output_type": "stream",
       "stream": "stdout",
       "text": [
        "Please guess a letter. d\n"
       ]
      },
      {
       "output_type": "stream",
       "stream": "stdout",
       "text": [
        "You have already guessed that letter. Please select another one.\n",
        "\n"
       ]
      },
      {
       "name": "stdout",
       "output_type": "stream",
       "stream": "stdout",
       "text": [
        "Please guess a letter. f\n"
       ]
      },
      {
       "output_type": "stream",
       "stream": "stdout",
       "text": [
        "You have already guessed that letter. Please select another one.\n",
        "\n"
       ]
      },
      {
       "name": "stdout",
       "output_type": "stream",
       "stream": "stdout",
       "text": [
        "Please guess a letter. g\n"
       ]
      },
      {
       "output_type": "stream",
       "stream": "stdout",
       "text": [
        "_ _ _ _ _ _ E _ \n"
       ]
      },
      {
       "name": "stdout",
       "output_type": "stream",
       "stream": "stdout",
       "text": [
        "Please guess a letter. h\n"
       ]
      },
      {
       "output_type": "stream",
       "stream": "stdout",
       "text": [
        "_ H _ _ _ _ E _ \n"
       ]
      },
      {
       "name": "stdout",
       "output_type": "stream",
       "stream": "stdout",
       "text": [
        "Please guess a letter. j\n"
       ]
      },
      {
       "output_type": "stream",
       "stream": "stdout",
       "text": [
        "_ H _ _ _ _ E _ \n"
       ]
      },
      {
       "name": "stdout",
       "output_type": "stream",
       "stream": "stdout",
       "text": [
        "Please guess a letter. k\n"
       ]
      },
      {
       "output_type": "stream",
       "stream": "stdout",
       "text": [
        "_ H _ _ _ _ E _ \n"
       ]
      },
      {
       "name": "stdout",
       "output_type": "stream",
       "stream": "stdout",
       "text": [
        "Please guess a letter. l\n"
       ]
      },
      {
       "output_type": "stream",
       "stream": "stdout",
       "text": [
        "_ H _ L L _ E _ \n"
       ]
      },
      {
       "name": "stdout",
       "output_type": "stream",
       "stream": "stdout",
       "text": [
        "Please guess a letter. z\n"
       ]
      },
      {
       "output_type": "stream",
       "stream": "stdout",
       "text": [
        "_ H _ L L _ E _ \n"
       ]
      },
      {
       "name": "stdout",
       "output_type": "stream",
       "stream": "stdout",
       "text": [
        "Please guess a letter. c\n"
       ]
      },
      {
       "output_type": "stream",
       "stream": "stdout",
       "text": [
        "_ H _ L L _ E _ \n"
       ]
      },
      {
       "name": "stdout",
       "output_type": "stream",
       "stream": "stdout",
       "text": [
        "Please guess a letter. t\n"
       ]
      },
      {
       "output_type": "stream",
       "stream": "stdout",
       "text": [
        "You have already guessed that letter. Please select another one.\n",
        "\n"
       ]
      },
      {
       "name": "stdout",
       "output_type": "stream",
       "stream": "stdout",
       "text": [
        "Please guess a letter. h\n"
       ]
      },
      {
       "output_type": "stream",
       "stream": "stdout",
       "text": [
        "You have already guessed that letter. Please select another one.\n",
        "\n"
       ]
      },
      {
       "name": "stdout",
       "output_type": "stream",
       "stream": "stdout",
       "text": [
        "Please guess a letter. g\n"
       ]
      },
      {
       "output_type": "stream",
       "stream": "stdout",
       "text": [
        "You have already guessed that letter. Please select another one.\n",
        "\n"
       ]
      },
      {
       "name": "stdout",
       "output_type": "stream",
       "stream": "stdout",
       "text": [
        "Please guess a letter. f\n"
       ]
      },
      {
       "output_type": "stream",
       "stream": "stdout",
       "text": [
        "You have already guessed that letter. Please select another one.\n",
        "\n"
       ]
      },
      {
       "name": "stdout",
       "output_type": "stream",
       "stream": "stdout",
       "text": [
        "Please guess a letter. p\n"
       ]
      },
      {
       "output_type": "stream",
       "stream": "stdout",
       "text": [
        "P H _ L L _ E _ \n"
       ]
      },
      {
       "name": "stdout",
       "output_type": "stream",
       "stream": "stdout",
       "text": [
        "Please guess a letter. i\n"
       ]
      },
      {
       "output_type": "stream",
       "stream": "stdout",
       "text": [
        "P H I L L I E _ \n"
       ]
      },
      {
       "name": "stdout",
       "output_type": "stream",
       "stream": "stdout",
       "text": [
        "Please guess a letter. s\n"
       ]
      },
      {
       "output_type": "stream",
       "stream": "stdout",
       "text": [
        "\\<ascii art omitted>\n",
        "\n",
        "The secret word is PHILLIES . You have won!\n",
        "\n",
        "Would you like to play again? (yes or no)\n"
       ]
      },
      {
       "name": "stdout",
       "output_type": "stream",
       "stream": "stdout",
       "text": [
        "n\n"
       ]
      },
      {
       "output_type": "stream",
       "stream": "stdout",
       "text": [
        "Would you like to play again? (yes or no)\n"
       ]
      },
      {
       "name": "stdout",
       "output_type": "stream",
       "stream": "stdout",
       "text": [
        "N\n"
       ]
      },
      {
       "metadata": {},
       "output_type": "pyout",
       "prompt_number": 3,
       "text": [
        "False"
       ]
      }
     ],
     "prompt_number": 3
    },
    {
     "cell_type": "code",
     "collapsed": false,
     "input": [],
     "language": "python",
     "metadata": {},
     "outputs": []
    }
   ],
   "metadata": {}
  }
 ]
}